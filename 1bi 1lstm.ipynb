{
  "cells": [
    {
      "cell_type": "code",
      "execution_count": 4,
      "metadata": {
        "colab": {
          "base_uri": "https://localhost:8080/",
          "height": 206
        },
        "execution": {
          "iopub.execute_input": "2023-11-19T13:32:59.858368Z",
          "iopub.status.busy": "2023-11-19T13:32:59.857632Z",
          "iopub.status.idle": "2023-11-19T13:33:00.863703Z",
          "shell.execute_reply": "2023-11-19T13:33:00.862353Z",
          "shell.execute_reply.started": "2023-11-19T13:32:59.858233Z"
        },
        "id": "0GHVKI533REI",
        "outputId": "8dd70ff2-1c96-485b-dbd3-ef60099c9804",
        "trusted": true
      },
      "outputs": [
        {
          "output_type": "execute_result",
          "data": {
            "text/plain": [
              "    Sentence #           Word  POS Tag\n",
              "0  Sentence: 1      Thousands  NNS   O\n",
              "1          NaN             of   IN   O\n",
              "2          NaN  demonstrators  NNS   O\n",
              "3          NaN           have  VBP   O\n",
              "4          NaN        marched  VBN   O"
            ],
            "text/html": [
              "\n",
              "  <div id=\"df-3f0aa774-c0ec-4b6a-afaf-1732cc14ec7a\" class=\"colab-df-container\">\n",
              "    <div>\n",
              "<style scoped>\n",
              "    .dataframe tbody tr th:only-of-type {\n",
              "        vertical-align: middle;\n",
              "    }\n",
              "\n",
              "    .dataframe tbody tr th {\n",
              "        vertical-align: top;\n",
              "    }\n",
              "\n",
              "    .dataframe thead th {\n",
              "        text-align: right;\n",
              "    }\n",
              "</style>\n",
              "<table border=\"1\" class=\"dataframe\">\n",
              "  <thead>\n",
              "    <tr style=\"text-align: right;\">\n",
              "      <th></th>\n",
              "      <th>Sentence #</th>\n",
              "      <th>Word</th>\n",
              "      <th>POS</th>\n",
              "      <th>Tag</th>\n",
              "    </tr>\n",
              "  </thead>\n",
              "  <tbody>\n",
              "    <tr>\n",
              "      <th>0</th>\n",
              "      <td>Sentence: 1</td>\n",
              "      <td>Thousands</td>\n",
              "      <td>NNS</td>\n",
              "      <td>O</td>\n",
              "    </tr>\n",
              "    <tr>\n",
              "      <th>1</th>\n",
              "      <td>NaN</td>\n",
              "      <td>of</td>\n",
              "      <td>IN</td>\n",
              "      <td>O</td>\n",
              "    </tr>\n",
              "    <tr>\n",
              "      <th>2</th>\n",
              "      <td>NaN</td>\n",
              "      <td>demonstrators</td>\n",
              "      <td>NNS</td>\n",
              "      <td>O</td>\n",
              "    </tr>\n",
              "    <tr>\n",
              "      <th>3</th>\n",
              "      <td>NaN</td>\n",
              "      <td>have</td>\n",
              "      <td>VBP</td>\n",
              "      <td>O</td>\n",
              "    </tr>\n",
              "    <tr>\n",
              "      <th>4</th>\n",
              "      <td>NaN</td>\n",
              "      <td>marched</td>\n",
              "      <td>VBN</td>\n",
              "      <td>O</td>\n",
              "    </tr>\n",
              "  </tbody>\n",
              "</table>\n",
              "</div>\n",
              "    <div class=\"colab-df-buttons\">\n",
              "\n",
              "  <div class=\"colab-df-container\">\n",
              "    <button class=\"colab-df-convert\" onclick=\"convertToInteractive('df-3f0aa774-c0ec-4b6a-afaf-1732cc14ec7a')\"\n",
              "            title=\"Convert this dataframe to an interactive table.\"\n",
              "            style=\"display:none;\">\n",
              "\n",
              "  <svg xmlns=\"http://www.w3.org/2000/svg\" height=\"24px\" viewBox=\"0 -960 960 960\">\n",
              "    <path d=\"M120-120v-720h720v720H120Zm60-500h600v-160H180v160Zm220 220h160v-160H400v160Zm0 220h160v-160H400v160ZM180-400h160v-160H180v160Zm440 0h160v-160H620v160ZM180-180h160v-160H180v160Zm440 0h160v-160H620v160Z\"/>\n",
              "  </svg>\n",
              "    </button>\n",
              "\n",
              "  <style>\n",
              "    .colab-df-container {\n",
              "      display:flex;\n",
              "      gap: 12px;\n",
              "    }\n",
              "\n",
              "    .colab-df-convert {\n",
              "      background-color: #E8F0FE;\n",
              "      border: none;\n",
              "      border-radius: 50%;\n",
              "      cursor: pointer;\n",
              "      display: none;\n",
              "      fill: #1967D2;\n",
              "      height: 32px;\n",
              "      padding: 0 0 0 0;\n",
              "      width: 32px;\n",
              "    }\n",
              "\n",
              "    .colab-df-convert:hover {\n",
              "      background-color: #E2EBFA;\n",
              "      box-shadow: 0px 1px 2px rgba(60, 64, 67, 0.3), 0px 1px 3px 1px rgba(60, 64, 67, 0.15);\n",
              "      fill: #174EA6;\n",
              "    }\n",
              "\n",
              "    .colab-df-buttons div {\n",
              "      margin-bottom: 4px;\n",
              "    }\n",
              "\n",
              "    [theme=dark] .colab-df-convert {\n",
              "      background-color: #3B4455;\n",
              "      fill: #D2E3FC;\n",
              "    }\n",
              "\n",
              "    [theme=dark] .colab-df-convert:hover {\n",
              "      background-color: #434B5C;\n",
              "      box-shadow: 0px 1px 3px 1px rgba(0, 0, 0, 0.15);\n",
              "      filter: drop-shadow(0px 1px 2px rgba(0, 0, 0, 0.3));\n",
              "      fill: #FFFFFF;\n",
              "    }\n",
              "  </style>\n",
              "\n",
              "    <script>\n",
              "      const buttonEl =\n",
              "        document.querySelector('#df-3f0aa774-c0ec-4b6a-afaf-1732cc14ec7a button.colab-df-convert');\n",
              "      buttonEl.style.display =\n",
              "        google.colab.kernel.accessAllowed ? 'block' : 'none';\n",
              "\n",
              "      async function convertToInteractive(key) {\n",
              "        const element = document.querySelector('#df-3f0aa774-c0ec-4b6a-afaf-1732cc14ec7a');\n",
              "        const dataTable =\n",
              "          await google.colab.kernel.invokeFunction('convertToInteractive',\n",
              "                                                    [key], {});\n",
              "        if (!dataTable) return;\n",
              "\n",
              "        const docLinkHtml = 'Like what you see? Visit the ' +\n",
              "          '<a target=\"_blank\" href=https://colab.research.google.com/notebooks/data_table.ipynb>data table notebook</a>'\n",
              "          + ' to learn more about interactive tables.';\n",
              "        element.innerHTML = '';\n",
              "        dataTable['output_type'] = 'display_data';\n",
              "        await google.colab.output.renderOutput(dataTable, element);\n",
              "        const docLink = document.createElement('div');\n",
              "        docLink.innerHTML = docLinkHtml;\n",
              "        element.appendChild(docLink);\n",
              "      }\n",
              "    </script>\n",
              "  </div>\n",
              "\n",
              "\n",
              "<div id=\"df-53aa5f80-ac57-4d8a-8e57-7ccae9da52ae\">\n",
              "  <button class=\"colab-df-quickchart\" onclick=\"quickchart('df-53aa5f80-ac57-4d8a-8e57-7ccae9da52ae')\"\n",
              "            title=\"Suggest charts\"\n",
              "            style=\"display:none;\">\n",
              "\n",
              "<svg xmlns=\"http://www.w3.org/2000/svg\" height=\"24px\"viewBox=\"0 0 24 24\"\n",
              "     width=\"24px\">\n",
              "    <g>\n",
              "        <path d=\"M19 3H5c-1.1 0-2 .9-2 2v14c0 1.1.9 2 2 2h14c1.1 0 2-.9 2-2V5c0-1.1-.9-2-2-2zM9 17H7v-7h2v7zm4 0h-2V7h2v10zm4 0h-2v-4h2v4z\"/>\n",
              "    </g>\n",
              "</svg>\n",
              "  </button>\n",
              "\n",
              "<style>\n",
              "  .colab-df-quickchart {\n",
              "      --bg-color: #E8F0FE;\n",
              "      --fill-color: #1967D2;\n",
              "      --hover-bg-color: #E2EBFA;\n",
              "      --hover-fill-color: #174EA6;\n",
              "      --disabled-fill-color: #AAA;\n",
              "      --disabled-bg-color: #DDD;\n",
              "  }\n",
              "\n",
              "  [theme=dark] .colab-df-quickchart {\n",
              "      --bg-color: #3B4455;\n",
              "      --fill-color: #D2E3FC;\n",
              "      --hover-bg-color: #434B5C;\n",
              "      --hover-fill-color: #FFFFFF;\n",
              "      --disabled-bg-color: #3B4455;\n",
              "      --disabled-fill-color: #666;\n",
              "  }\n",
              "\n",
              "  .colab-df-quickchart {\n",
              "    background-color: var(--bg-color);\n",
              "    border: none;\n",
              "    border-radius: 50%;\n",
              "    cursor: pointer;\n",
              "    display: none;\n",
              "    fill: var(--fill-color);\n",
              "    height: 32px;\n",
              "    padding: 0;\n",
              "    width: 32px;\n",
              "  }\n",
              "\n",
              "  .colab-df-quickchart:hover {\n",
              "    background-color: var(--hover-bg-color);\n",
              "    box-shadow: 0 1px 2px rgba(60, 64, 67, 0.3), 0 1px 3px 1px rgba(60, 64, 67, 0.15);\n",
              "    fill: var(--button-hover-fill-color);\n",
              "  }\n",
              "\n",
              "  .colab-df-quickchart-complete:disabled,\n",
              "  .colab-df-quickchart-complete:disabled:hover {\n",
              "    background-color: var(--disabled-bg-color);\n",
              "    fill: var(--disabled-fill-color);\n",
              "    box-shadow: none;\n",
              "  }\n",
              "\n",
              "  .colab-df-spinner {\n",
              "    border: 2px solid var(--fill-color);\n",
              "    border-color: transparent;\n",
              "    border-bottom-color: var(--fill-color);\n",
              "    animation:\n",
              "      spin 1s steps(1) infinite;\n",
              "  }\n",
              "\n",
              "  @keyframes spin {\n",
              "    0% {\n",
              "      border-color: transparent;\n",
              "      border-bottom-color: var(--fill-color);\n",
              "      border-left-color: var(--fill-color);\n",
              "    }\n",
              "    20% {\n",
              "      border-color: transparent;\n",
              "      border-left-color: var(--fill-color);\n",
              "      border-top-color: var(--fill-color);\n",
              "    }\n",
              "    30% {\n",
              "      border-color: transparent;\n",
              "      border-left-color: var(--fill-color);\n",
              "      border-top-color: var(--fill-color);\n",
              "      border-right-color: var(--fill-color);\n",
              "    }\n",
              "    40% {\n",
              "      border-color: transparent;\n",
              "      border-right-color: var(--fill-color);\n",
              "      border-top-color: var(--fill-color);\n",
              "    }\n",
              "    60% {\n",
              "      border-color: transparent;\n",
              "      border-right-color: var(--fill-color);\n",
              "    }\n",
              "    80% {\n",
              "      border-color: transparent;\n",
              "      border-right-color: var(--fill-color);\n",
              "      border-bottom-color: var(--fill-color);\n",
              "    }\n",
              "    90% {\n",
              "      border-color: transparent;\n",
              "      border-bottom-color: var(--fill-color);\n",
              "    }\n",
              "  }\n",
              "</style>\n",
              "\n",
              "  <script>\n",
              "    async function quickchart(key) {\n",
              "      const quickchartButtonEl =\n",
              "        document.querySelector('#' + key + ' button');\n",
              "      quickchartButtonEl.disabled = true;  // To prevent multiple clicks.\n",
              "      quickchartButtonEl.classList.add('colab-df-spinner');\n",
              "      try {\n",
              "        const charts = await google.colab.kernel.invokeFunction(\n",
              "            'suggestCharts', [key], {});\n",
              "      } catch (error) {\n",
              "        console.error('Error during call to suggestCharts:', error);\n",
              "      }\n",
              "      quickchartButtonEl.classList.remove('colab-df-spinner');\n",
              "      quickchartButtonEl.classList.add('colab-df-quickchart-complete');\n",
              "    }\n",
              "    (() => {\n",
              "      let quickchartButtonEl =\n",
              "        document.querySelector('#df-53aa5f80-ac57-4d8a-8e57-7ccae9da52ae button');\n",
              "      quickchartButtonEl.style.display =\n",
              "        google.colab.kernel.accessAllowed ? 'block' : 'none';\n",
              "    })();\n",
              "  </script>\n",
              "</div>\n",
              "    </div>\n",
              "  </div>\n"
            ]
          },
          "metadata": {},
          "execution_count": 4
        }
      ],
      "source": [
        "import pandas as pd\n",
        "data = pd.read_csv('/content/NER_dataset.csv', encoding= 'unicode_escape')\n",
        "data.head()"
      ]
    },
    {
      "cell_type": "code",
      "source": [
        "data.shape"
      ],
      "metadata": {
        "colab": {
          "base_uri": "https://localhost:8080/"
        },
        "id": "mikwj-50W1mw",
        "outputId": "4c553604-dabf-4bb9-a1de-01c806176144"
      },
      "execution_count": 5,
      "outputs": [
        {
          "output_type": "execute_result",
          "data": {
            "text/plain": [
              "(1048575, 4)"
            ]
          },
          "metadata": {},
          "execution_count": 5
        }
      ]
    },
    {
      "cell_type": "code",
      "execution_count": 6,
      "metadata": {
        "execution": {
          "iopub.execute_input": "2023-11-19T13:33:32.470980Z",
          "iopub.status.busy": "2023-11-19T13:33:32.470576Z",
          "iopub.status.idle": "2023-11-19T13:33:32.605084Z",
          "shell.execute_reply": "2023-11-19T13:33:32.604060Z",
          "shell.execute_reply.started": "2023-11-19T13:33:32.470946Z"
        },
        "id": "MOR49s_93REK",
        "trusted": true
      },
      "outputs": [],
      "source": [
        "\n",
        "def get_dict_map(data, token_or_tag):\n",
        "    tok2idx = {}\n",
        "    idx2tok = {}\n",
        "\n",
        "    if token_or_tag == 'token':\n",
        "        vocab = list(set(data['Word'].to_list()))\n",
        "    else:\n",
        "        vocab = list(set(data['Tag'].to_list()))\n",
        "\n",
        "    idx2tok = {idx:tok for  idx, tok in enumerate(vocab)}\n",
        "    tok2idx = {tok:idx for  idx, tok in enumerate(vocab)}\n",
        "    return tok2idx, idx2tok\n",
        "token2idx, idx2token = get_dict_map(data, 'token')\n",
        "tag2idx, idx2tag = get_dict_map(data, 'tag')"
      ]
    },
    {
      "cell_type": "code",
      "execution_count": 7,
      "metadata": {
        "colab": {
          "base_uri": "https://localhost:8080/"
        },
        "execution": {
          "iopub.execute_input": "2023-11-19T13:33:53.740615Z",
          "iopub.status.busy": "2023-11-19T13:33:53.740113Z",
          "iopub.status.idle": "2023-11-19T13:34:05.823909Z",
          "shell.execute_reply": "2023-11-19T13:34:05.822851Z",
          "shell.execute_reply.started": "2023-11-19T13:33:53.740552Z"
        },
        "id": "fDv-nz8O3REK",
        "outputId": "fd129f2b-77aa-49e1-a149-ee5a4ed58d77",
        "trusted": true
      },
      "outputs": [
        {
          "output_type": "stream",
          "name": "stderr",
          "text": [
            "<ipython-input-7-f8b936d5d036>:5: FutureWarning: Indexing with multiple keys (implicitly converted to a tuple of keys) will be deprecated, use a list instead.\n",
            "  data_group = data_fillna.groupby(\n"
          ]
        }
      ],
      "source": [
        "data['Word_idx'] = data['Word'].map(token2idx)\n",
        "data['Tag_idx'] = data['Tag'].map(tag2idx)\n",
        "data_fillna = data.fillna(method='ffill', axis=0)\n",
        "# Groupby and collect columns\n",
        "data_group = data_fillna.groupby(\n",
        "['Sentence #'],as_index=False\n",
        ")['Word', 'POS', 'Tag', 'Word_idx', 'Tag_idx'].agg(lambda x: list(x))"
      ]
    },
    {
      "cell_type": "code",
      "execution_count": 8,
      "metadata": {
        "colab": {
          "base_uri": "https://localhost:8080/"
        },
        "execution": {
          "iopub.execute_input": "2023-11-19T13:34:53.360634Z",
          "iopub.status.busy": "2023-11-19T13:34:53.360153Z",
          "iopub.status.idle": "2023-11-19T13:35:03.037866Z",
          "shell.execute_reply": "2023-11-19T13:35:03.036762Z",
          "shell.execute_reply.started": "2023-11-19T13:34:53.360593Z"
        },
        "id": "X2tmwLa03REL",
        "outputId": "c2e7aae5-f3e9-4a10-fee2-d543ab2bc56b",
        "trusted": true
      },
      "outputs": [
        {
          "output_type": "stream",
          "name": "stdout",
          "text": [
            "train_tokens length: 30693 \n",
            "train_tags:          30693 \n",
            "test_tokens length:  9592 \n",
            "test_tags:           9592 \n",
            "val_tokens:          7674 \n",
            "val_tags:            7674\n"
          ]
        }
      ],
      "source": [
        "from sklearn.model_selection import train_test_split\n",
        "from keras.utils import pad_sequences\n",
        "from keras.utils import to_categorical\n",
        "\n",
        "def get_pad_train_test_val(data_group, data):\n",
        "\n",
        "    n_token = len(list(set(data['Word'].to_list())))\n",
        "    n_tag = len(list(set(data['Tag'].to_list())))\n",
        "\n",
        "    tokens = data_group['Word_idx'].tolist()\n",
        "    maxlen = max([len(s) for s in tokens])\n",
        "    pad_tokens = pad_sequences(tokens, maxlen=maxlen, dtype='int32', padding='post', value= n_token - 1)\n",
        "\n",
        "    tags = data_group['Tag_idx'].tolist()\n",
        "    pad_tags = pad_sequences(tags, maxlen=maxlen, dtype='int32', padding='post', value= tag2idx[\"O\"])\n",
        "    n_tags = len(tag2idx)\n",
        "    pad_tags = [to_categorical(i, num_classes=n_tags) for i in pad_tags]\n",
        "\n",
        "    tokens_, test_tokens, tags_, test_tags = train_test_split(pad_tokens, pad_tags, train_size=0.8, random_state=42)\n",
        "    train_tokens, val_tokens, train_tags, val_tags = train_test_split(tokens_,tags_,train_size =0.8, random_state=42)\n",
        "\n",
        "    print(\n",
        "        'train_tokens length:'  , len(train_tokens),\n",
        "        '\\ntrain_tags:         ', len(train_tags),\n",
        "        '\\ntest_tokens length: ', len(test_tokens),\n",
        "        '\\ntest_tags:          ', len(test_tags),\n",
        "        '\\nval_tokens:         ', len(val_tokens),\n",
        "        '\\nval_tags:           ', len(val_tags),\n",
        "    )\n",
        "\n",
        "    return train_tokens, val_tokens, test_tokens, train_tags, val_tags, test_tags\n",
        "\n",
        "train_tokens, val_tokens, test_tokens, train_tags, val_tags, test_tags = get_pad_train_test_val(data_group, data)\n"
      ]
    },
    {
      "cell_type": "code",
      "execution_count": 9,
      "metadata": {
        "execution": {
          "iopub.execute_input": "2023-11-19T13:35:18.189821Z",
          "iopub.status.busy": "2023-11-19T13:35:18.189376Z",
          "iopub.status.idle": "2023-11-19T13:35:18.196899Z",
          "shell.execute_reply": "2023-11-19T13:35:18.195622Z",
          "shell.execute_reply.started": "2023-11-19T13:35:18.189783Z"
        },
        "id": "_nAziWLw3REM",
        "trusted": true
      },
      "outputs": [],
      "source": [
        "import numpy as np\n",
        "import tensorflow\n",
        "from tensorflow.keras import Sequential, Model, Input\n",
        "from tensorflow.keras.layers import LSTM, Embedding, Dense, TimeDistributed, Dropout, Bidirectional\n",
        "from tensorflow.keras.utils import plot_model\n",
        "from numpy.random import seed\n",
        "seed(1)\n",
        "tensorflow.random.set_seed(13)"
      ]
    },
    {
      "cell_type": "code",
      "execution_count": 10,
      "metadata": {
        "execution": {
          "iopub.execute_input": "2023-11-19T13:35:23.114927Z",
          "iopub.status.busy": "2023-11-19T13:35:23.114501Z",
          "iopub.status.idle": "2023-11-19T13:35:23.199009Z",
          "shell.execute_reply": "2023-11-19T13:35:23.197787Z",
          "shell.execute_reply.started": "2023-11-19T13:35:23.114890Z"
        },
        "id": "NnY24Jz83REM",
        "trusted": true
      },
      "outputs": [],
      "source": [
        "input_dim = len(list(set(data['Word'].to_list())))+1\n",
        "output_dim = 64\n",
        "input_length = max([len(s) for s in data_group['Word_idx'].tolist()])\n",
        "n_tags = len(tag2idx)"
      ]
    },
    {
      "cell_type": "code",
      "execution_count": 11,
      "metadata": {
        "execution": {
          "iopub.execute_input": "2023-11-19T13:35:29.417910Z",
          "iopub.status.busy": "2023-11-19T13:35:29.417471Z",
          "iopub.status.idle": "2023-11-19T13:35:29.426381Z",
          "shell.execute_reply": "2023-11-19T13:35:29.425320Z",
          "shell.execute_reply.started": "2023-11-19T13:35:29.417872Z"
        },
        "id": "CbGeiLZx3REN",
        "trusted": true
      },
      "outputs": [],
      "source": [
        "def get_bilstm_lstm_model():\n",
        "    model = Sequential()\n",
        "\n",
        "    model.add(Embedding(input_dim=input_dim, output_dim=output_dim, input_length=input_length))\n",
        "\n",
        "    model.add(Bidirectional(LSTM(units=output_dim, return_sequences=True, dropout=0.2, recurrent_dropout=0.2), merge_mode = 'concat'))\n",
        "\n",
        "    model.add(LSTM(units=output_dim, return_sequences=True, dropout=0.5, recurrent_dropout=0.5))\n",
        "\n",
        "    model.add(TimeDistributed(Dense(n_tags, activation=\"relu\")))\n",
        "\n",
        "\n",
        "    model.compile(loss='categorical_crossentropy', optimizer='adam', metrics=['accuracy'])\n",
        "    model.summary()\n",
        "\n",
        "    return model"
      ]
    },
    {
      "cell_type": "code",
      "execution_count": 12,
      "metadata": {
        "execution": {
          "iopub.execute_input": "2023-11-19T13:35:44.037658Z",
          "iopub.status.busy": "2023-11-19T13:35:44.037234Z",
          "iopub.status.idle": "2023-11-19T13:35:44.043703Z",
          "shell.execute_reply": "2023-11-19T13:35:44.042702Z",
          "shell.execute_reply.started": "2023-11-19T13:35:44.037616Z"
        },
        "id": "HYeiFb_z3REN",
        "trusted": true
      },
      "outputs": [],
      "source": [
        "def train_model(X, y, model):\n",
        "    loss = list()\n",
        "    hist = model.fit(X, y, batch_size=1024, verbose=1, epochs=20, validation_split=0.2)\n",
        "    loss.append(hist.history['loss'][0])\n",
        "    return loss"
      ]
    },
    {
      "cell_type": "code",
      "execution_count": 13,
      "metadata": {
        "colab": {
          "base_uri": "https://localhost:8080/"
        },
        "id": "YiV9_0WU3REN",
        "outputId": "32229696-85b1-4bd5-df9e-9a823ce7730e",
        "trusted": true
      },
      "outputs": [
        {
          "output_type": "stream",
          "name": "stdout",
          "text": [
            "Model: \"sequential\"\n",
            "_________________________________________________________________\n",
            " Layer (type)                Output Shape              Param #   \n",
            "=================================================================\n",
            " embedding (Embedding)       (None, 104, 64)           2251456   \n",
            "                                                                 \n",
            " bidirectional (Bidirectiona  (None, 104, 128)         66048     \n",
            " l)                                                              \n",
            "                                                                 \n",
            " lstm_1 (LSTM)               (None, 104, 64)           49408     \n",
            "                                                                 \n",
            " time_distributed (TimeDistr  (None, 104, 17)          1105      \n",
            " ibuted)                                                         \n",
            "                                                                 \n",
            "=================================================================\n",
            "Total params: 2,368,017\n",
            "Trainable params: 2,368,017\n",
            "Non-trainable params: 0\n",
            "_________________________________________________________________\n",
            "Epoch 1/20\n",
            "24/24 [==============================] - 205s 8s/step - loss: 0.8642 - accuracy: 0.9271 - val_loss: 0.4499 - val_accuracy: 0.9679\n",
            "Epoch 2/20\n",
            "24/24 [==============================] - 182s 8s/step - loss: 0.5347 - accuracy: 0.9676 - val_loss: 0.6092 - val_accuracy: 0.9680\n",
            "Epoch 3/20\n",
            "24/24 [==============================] - 181s 8s/step - loss: 0.4400 - accuracy: 0.9676 - val_loss: 0.3550 - val_accuracy: 0.9679\n",
            "Epoch 4/20\n",
            "24/24 [==============================] - 179s 8s/step - loss: 0.3206 - accuracy: 0.9677 - val_loss: 0.2997 - val_accuracy: 0.9680\n",
            "Epoch 5/20\n",
            "24/24 [==============================] - 181s 8s/step - loss: 0.3047 - accuracy: 0.9677 - val_loss: 0.2750 - val_accuracy: 0.9681\n",
            "Epoch 6/20\n",
            "24/24 [==============================] - 183s 8s/step - loss: 0.2830 - accuracy: 0.9678 - val_loss: 0.2731 - val_accuracy: 0.9682\n",
            "Epoch 7/20\n",
            "24/24 [==============================] - 179s 7s/step - loss: 0.2980 - accuracy: 0.9677 - val_loss: 0.2623 - val_accuracy: 0.9681\n",
            "Epoch 8/20\n",
            "24/24 [==============================] - 175s 7s/step - loss: 0.2496 - accuracy: 0.9678 - val_loss: 0.2310 - val_accuracy: 0.9681\n",
            "Epoch 9/20\n",
            "24/24 [==============================] - 181s 8s/step - loss: 0.2278 - accuracy: 0.9679 - val_loss: 0.2188 - val_accuracy: 0.9682\n",
            "Epoch 10/20\n",
            "24/24 [==============================] - 182s 7s/step - loss: 0.2159 - accuracy: 0.9679 - val_loss: 0.2128 - val_accuracy: 0.9682\n",
            "Epoch 11/20\n",
            "24/24 [==============================] - 182s 8s/step - loss: 0.2089 - accuracy: 0.9679 - val_loss: 0.2024 - val_accuracy: 0.9683\n",
            "Epoch 12/20\n",
            "24/24 [==============================] - 182s 8s/step - loss: 0.2021 - accuracy: 0.9680 - val_loss: 0.1997 - val_accuracy: 0.9683\n",
            "Epoch 13/20\n",
            "24/24 [==============================] - 176s 7s/step - loss: 0.1994 - accuracy: 0.9680 - val_loss: 0.2006 - val_accuracy: 0.9683\n",
            "Epoch 14/20\n",
            "24/24 [==============================] - 180s 8s/step - loss: 0.3650 - accuracy: 0.9378 - val_loss: 0.7320 - val_accuracy: 0.7846\n",
            "Epoch 15/20\n",
            "24/24 [==============================] - 177s 7s/step - loss: 0.4649 - accuracy: 0.9067 - val_loss: 0.2631 - val_accuracy: 0.9676\n",
            "Epoch 16/20\n",
            "24/24 [==============================] - 180s 8s/step - loss: 0.2213 - accuracy: 0.9678 - val_loss: 0.1957 - val_accuracy: 0.9689\n",
            "Epoch 17/20\n",
            "24/24 [==============================] - 177s 7s/step - loss: 0.1822 - accuracy: 0.9685 - val_loss: 0.1791 - val_accuracy: 0.9690\n",
            "Epoch 18/20\n",
            "24/24 [==============================] - 178s 8s/step - loss: 0.1644 - accuracy: 0.9686 - val_loss: 0.1796 - val_accuracy: 0.9691\n",
            "Epoch 19/20\n",
            "24/24 [==============================] - 178s 7s/step - loss: 0.2790 - accuracy: 0.9449 - val_loss: 0.2951 - val_accuracy: 0.9558\n",
            "Epoch 20/20\n",
            "24/24 [==============================] - 183s 8s/step - loss: 0.2555 - accuracy: 0.9649 - val_loss: 0.2323 - val_accuracy: 0.9684\n"
          ]
        }
      ],
      "source": [
        "results = pd.DataFrame()\n",
        "model_bilstm_lstm = get_bilstm_lstm_model()\n",
        "plot_model(model_bilstm_lstm)\n",
        "results['with_add_lstm'] = train_model(train_tokens, np.array(train_tags), model_bilstm_lstm)"
      ]
    },
    {
      "cell_type": "code",
      "execution_count": 15,
      "metadata": {
        "colab": {
          "base_uri": "https://localhost:8080/"
        },
        "id": "bbBCoaObLu4-",
        "outputId": "ca10b546-e71e-4d7a-a7dc-e7e29c7bb4c3"
      },
      "outputs": [
        {
          "output_type": "stream",
          "name": "stdout",
          "text": [
            "300/300 [==============================] - 30s 100ms/step - loss: 0.2316 - accuracy: 0.9679\n",
            "Test Accuracy: 96.79%\n"
          ]
        }
      ],
      "source": [
        "\n",
        "test_loss, test_accuracy = model_bilstm_lstm.evaluate(test_tokens, np.array(test_tags), verbose=1)\n",
        "print(f'Test Accuracy: {test_accuracy * 100:.2f}%')"
      ]
    },
    {
      "cell_type": "code",
      "execution_count": 16,
      "metadata": {
        "colab": {
          "base_uri": "https://localhost:8080/"
        },
        "id": "wraN5s79L16-",
        "outputId": "de6bc875-32e8-4eae-c783-015d700cae58"
      },
      "outputs": [
        {
          "output_type": "stream",
          "name": "stdout",
          "text": [
            "Test Loss: 0.2315940260887146\n"
          ]
        }
      ],
      "source": [
        "\n",
        "print(f'Test Loss: {test_loss}')"
      ]
    }
  ],
  "metadata": {
    "accelerator": "TPU",
    "colab": {
      "provenance": []
    },
    "kaggle": {
      "accelerator": "none",
      "dataSources": [
        {
          "datasetId": 1177669,
          "sourceId": 1971640,
          "sourceType": "datasetVersion"
        }
      ],
      "dockerImageVersionId": 30066,
      "isGpuEnabled": false,
      "isInternetEnabled": false,
      "language": "python",
      "sourceType": "notebook"
    },
    "kernelspec": {
      "display_name": "Python 3",
      "name": "python3"
    },
    "language_info": {
      "codemirror_mode": {
        "name": "ipython",
        "version": 3
      },
      "file_extension": ".py",
      "mimetype": "text/x-python",
      "name": "python",
      "nbconvert_exporter": "python",
      "pygments_lexer": "ipython3",
      "version": "3.10.10"
    }
  },
  "nbformat": 4,
  "nbformat_minor": 0
}